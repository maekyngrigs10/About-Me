{
 "cells": [
  {
   "attachments": {},
   "cell_type": "markdown",
   "metadata": {},
   "source": [
    "### What needs to be done\n",
    "\n",
    "<s>1.) Incorporate a Countdown timer, that when it goes off, the\n",
    "game will stop and shows the top 5 scores</s>\n",
    "\n",
    "<s>2.) Every time the turtle moves, change the Screen background\n",
    "to red and then back to white</s>\n",
    "\n",
    "<s>3.) When you click the turtle, it will leave a red outline of\n",
    "where the turtle was</s>\n",
    "\n",
    "<s>4.) Each time you click the turtle, shrink the turtle by 50% \n",
    "until it is at a certain size then reset the size (at least\n",
    "3 shrinks before reset)</s>\n",
    "\n",
    "<s>5.) Create a start game function that forces the user to press \n",
    "start on the Turtle Screen which will trigger the countdown \n",
    "and the ability to click on the turtle </s>\n",
    "\n",
    "<s>6.) Keep track of the accuracy of clicking.  You can display the\n",
    "score and the accuracy right below the score.  Accuracy is \n",
    "defined by the turtle clicks vs amount of clicks.</s>\n",
    "\n",
    "<s>7.) Be sure that the turtle will NOT spawn under the scorekeeper\n",
    "and timekeeper because if so, they cannot be clicked.</s>"
   ]
  },
  {
   "attachments": {},
   "cell_type": "markdown",
   "metadata": {},
   "source": [
    "### bonus\n",
    "1.) add a sound for each click\n",
    "\n",
    "2.) make the turtle something other than the predetermined shape"
   ]
  }
 ],
 "metadata": {
  "kernelspec": {
   "display_name": "Python 3",
   "language": "python",
   "name": "python3"
  },
  "language_info": {
   "name": "python",
   "version": "3.10.7 (tags/v3.10.7:6cc6b13, Sep  5 2022, 14:08:36) [MSC v.1933 64 bit (AMD64)]"
  },
  "orig_nbformat": 4,
  "vscode": {
   "interpreter": {
    "hash": "b35faee2843a243a780160b4aa5cc4130d0783019635d0cb96573e76b5c1207f"
   }
  }
 },
 "nbformat": 4,
 "nbformat_minor": 2
}
