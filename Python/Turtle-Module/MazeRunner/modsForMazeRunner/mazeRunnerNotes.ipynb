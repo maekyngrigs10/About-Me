{
 "cells": [
  {
   "attachments": {},
   "cell_type": "markdown",
   "metadata": {},
   "source": [
    "### What needs to be done\n",
    "\n",
    "<ol>\n",
    "<li> <s>Control the maze runner to escape the maze and make it to the finish area outside of the maze</s></li>\n",
    "<li><s>Make sure the outer wall of the maze is a solid wall so that there is only 1 escape route</s></li>\n",
    "<li><s>Restart the game if the maze runner hits the edge of the wall</s></li>\n",
    "<li><s>Time the runner to escape the maze</s></li>\n",
    "<li>Incorporate a pause button (pause the runner's movement and timer)</li>\n",
    "<li>Enemy turtle that can walk through the maze to get the turtle (Bonus if you make the enemy run through the maze like the runner)</li>\n",
    "\n",
    "</ol>"
   ]
  }
 ],
 "metadata": {
  "kernelspec": {
   "display_name": "Python 3",
   "language": "python",
   "name": "python3"
  },
  "language_info": {
   "name": "python",
   "version": "3.10.7 (tags/v3.10.7:6cc6b13, Sep  5 2022, 14:08:36) [MSC v.1933 64 bit (AMD64)]"
  },
  "orig_nbformat": 4,
  "vscode": {
   "interpreter": {
    "hash": "b35faee2843a243a780160b4aa5cc4130d0783019635d0cb96573e76b5c1207f"
   }
  }
 },
 "nbformat": 4,
 "nbformat_minor": 2
}
